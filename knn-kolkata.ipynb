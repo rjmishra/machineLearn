{
 "cells": [
  {
   "cell_type": "code",
   "execution_count": 2,
   "metadata": {
    "collapsed": true
   },
   "outputs": [],
   "source": [
    "from PIL import Image"
   ]
  },
  {
   "cell_type": "code",
   "execution_count": 3,
   "metadata": {
    "collapsed": true
   },
   "outputs": [],
   "source": [
    "imOne = Image.open('band1.gif')\n",
    "imTwo = Image.open('band2.gif')\n",
    "imThree = Image.open('band3.gif')\n",
    "imFour = Image.open('band4.gif')"
   ]
  },
  {
   "cell_type": "code",
   "execution_count": 4,
   "metadata": {
    "collapsed": true
   },
   "outputs": [],
   "source": [
    "import numpy as np"
   ]
  },
  {
   "cell_type": "code",
   "execution_count": 5,
   "metadata": {
    "collapsed": true
   },
   "outputs": [],
   "source": [
    "arrOne = np.asarray(imOne)\n",
    "arrTwo = np.asarray(imTwo)\n",
    "arrThree = np.asarray(imThree)\n",
    "arrFour = np.asarray(imFour)\n",
    "data = np.dstack([imOne, imTwo, imThree, imFour])"
   ]
  },
  {
   "cell_type": "code",
   "execution_count": 6,
   "metadata": {
    "collapsed": true
   },
   "outputs": [],
   "source": [
    "#river dimensions\n",
    "values = []\n",
    "file = open('river.txt', \"r\")\n",
    "for line in file:\n",
    "    values.append([int(n) for n in line.split(',')])\n",
    "    \n",
    "\n",
    "river_sample = []\n",
    "for j in range(len(values)):\n",
    "    d = [x for x in data[values[j][0]][values[j][1]]]\n",
    "    d.append(0)\n",
    "    \n",
    "    river_sample.append(d)\n",
    "\n",
    "river_sample = np.array(river_sample)\n"
   ]
  },
  {
   "cell_type": "code",
   "execution_count": 7,
   "metadata": {
    "collapsed": false
   },
   "outputs": [],
   "source": [
    "#land dimensions\n",
    "values = []\n",
    "file = open('land.txt', \"r\")\n",
    "for line in file:\n",
    "    values.append([int(n) for n in line.split(',')])\n",
    "\n",
    "land_sample = []\n",
    "for j in range(len(values)):\n",
    "    d = [x for x in data[values[j][0]][values[j][1]]]\n",
    "    d.append(1)\n",
    "    land_sample.append(d)\n",
    "\n",
    "land_sample = np.array(land_sample)"
   ]
  },
  {
   "cell_type": "code",
   "execution_count": 8,
   "metadata": {
    "collapsed": false
   },
   "outputs": [],
   "source": [
    "import math"
   ]
  },
  {
   "cell_type": "code",
   "execution_count": 9,
   "metadata": {
    "collapsed": false
   },
   "outputs": [],
   "source": [
    "def distance(a, b):\n",
    "    \"\"\" This function will return euclidean disatance between two points\"\"\"\n",
    "    return math.sqrt((a[0]-b[0])*(a[0]-b[0]) + (a[1] - b[1])*(a[1]-b[1]) + (a[2] - b[2])*(a[2]-b[2]) + (a[3] - b[3])*(a[3]-b[3]))"
   ]
  },
  {
   "cell_type": "code",
   "execution_count": 10,
   "metadata": {
    "collapsed": false
   },
   "outputs": [
    {
     "data": {
      "text/plain": [
       "10.246950765959598"
      ]
     },
     "execution_count": 10,
     "metadata": {},
     "output_type": "execute_result"
    }
   ],
   "source": [
    "distance(data[0][0], land_sample[0])"
   ]
  },
  {
   "cell_type": "code",
   "execution_count": 11,
   "metadata": {
    "collapsed": false
   },
   "outputs": [
    {
     "data": {
      "text/plain": [
       "array([[ 9, 11, 12, 28],\n",
       "       [ 9, 11, 15, 27],\n",
       "       [ 6,  9, 12, 26],\n",
       "       ..., \n",
       "       [ 9, 11, 13, 18],\n",
       "       [ 9, 12, 13, 19],\n",
       "       [ 9, 12, 14, 19]], dtype=uint8)"
      ]
     },
     "execution_count": 11,
     "metadata": {},
     "output_type": "execute_result"
    }
   ],
   "source": [
    "data[0]"
   ]
  },
  {
   "cell_type": "code",
   "execution_count": 73,
   "metadata": {
    "collapsed": false
   },
   "outputs": [
    {
     "name": "stdout",
     "output_type": "stream",
     "text": [
      "[[10.246950765959598, 1], [100000.0, 0], [1000000.0, 0], [1000000.0, 0], [1000000.0, 0]]\n",
      "[[8.48528137423857, 1], [10.246950765959598, 1], [100000.0, 0], [1000000.0, 0], [1000000.0, 0]]\n",
      "[[8.48528137423857, 1], [9.055385138137417, 1], [10.246950765959598, 1], [100000.0, 0], [1000000.0, 0]]\n",
      "[[8.48528137423857, 1], [9.0, 1], [9.055385138137417, 1], [10.246950765959598, 1], [100000.0, 0]]\n",
      "[[6.164414002968976, 1], [8.48528137423857, 1], [9.0, 1], [9.055385138137417, 1], [10.246950765959598, 1]]\n",
      "[[6.164414002968976, 1], [7.0710678118654755, 1], [8.48528137423857, 1], [9.0, 1], [9.055385138137417, 1]]\n",
      "[[6.164414002968976, 1], [7.0710678118654755, 1], [8.48528137423857, 1], [8.48528137423857, 1], [9.0, 1]]\n",
      "[[6.164414002968976, 1], [7.0710678118654755, 1], [8.48528137423857, 1], [8.48528137423857, 1], [8.48528137423857, 1]]\n",
      "[[6.164414002968976, 1], [7.0710678118654755, 1], [8.48528137423857, 1], [8.48528137423857, 1], [8.48528137423857, 1]]\n",
      "[[3.605551275463989, 1], [6.164414002968976, 1], [7.0710678118654755, 1], [8.48528137423857, 1], [8.48528137423857, 1]]\n",
      "[[2.8284271247461903, 1], [3.605551275463989, 1], [6.164414002968976, 1], [7.0710678118654755, 1], [8.48528137423857, 1]]\n",
      "[[2.8284271247461903, 1], [3.605551275463989, 1], [3.7416573867739413, 1], [6.164414002968976, 1], [7.0710678118654755, 1]]\n",
      "[[2.8284271247461903, 1], [3.605551275463989, 1], [3.7416573867739413, 1], [6.164414002968976, 1], [7.0710678118654755, 1]]\n",
      "[[2.8284271247461903, 1], [3.605551275463989, 1], [3.7416573867739413, 1], [6.164414002968976, 1], [7.0710678118654755, 1]]\n",
      "[[2.8284271247461903, 1], [3.605551275463989, 1], [3.7416573867739413, 1], [6.164414002968976, 1], [7.0710678118654755, 1]]\n",
      "[[2.8284271247461903, 1], [3.605551275463989, 1], [3.7416573867739413, 1], [6.164414002968976, 1], [7.0710678118654755, 1]]\n",
      "[[2.8284271247461903, 1], [3.605551275463989, 1], [3.7416573867739413, 1], [6.164414002968976, 1], [7.0710678118654755, 1]]\n",
      "[[2.8284271247461903, 1], [3.605551275463989, 1], [3.7416573867739413, 1], [6.164414002968976, 1], [6.48074069840786, 1]]\n",
      "[[2.8284271247461903, 1], [3.605551275463989, 1], [3.7416573867739413, 1], [4.242640687119285, 1], [6.164414002968976, 1]]\n",
      "[[1.7320508075688772, 1], [2.8284271247461903, 1], [3.605551275463989, 1], [3.7416573867739413, 1], [4.242640687119285, 1]]\n",
      "[[1.7320508075688772, 1], [2.8284271247461903, 1], [3.605551275463989, 1], [3.7416573867739413, 1], [4.242640687119285, 1]]\n",
      "[[1.7320508075688772, 1], [2.8284271247461903, 1], [3.4641016151377544, 1], [3.605551275463989, 1], [3.7416573867739413, 1]]\n",
      "[[1.7320508075688772, 1], [2.8284271247461903, 1], [3.1622776601683795, 1], [3.4641016151377544, 1], [3.605551275463989, 1]]\n",
      "[[1.7320508075688772, 1], [2.8284271247461903, 1], [2.8284271247461903, 1], [3.1622776601683795, 1], [3.4641016151377544, 1]]\n",
      "[[1.7320508075688772, 1], [2.23606797749979, 1], [2.8284271247461903, 1], [2.8284271247461903, 1], [3.1622776601683795, 1]]\n",
      "[[1.7320508075688772, 1], [2.23606797749979, 1], [2.8284271247461903, 1], [2.8284271247461903, 1], [3.1622776601683795, 1]]\n",
      "[[1.7320508075688772, 1], [2.23606797749979, 1], [2.449489742783178, 1], [2.8284271247461903, 1], [2.8284271247461903, 1]]\n",
      "[[1.7320508075688772, 1], [2.23606797749979, 1], [2.449489742783178, 1], [2.8284271247461903, 1], [2.8284271247461903, 1]]\n",
      "[[1.7320508075688772, 1], [2.23606797749979, 1], [2.449489742783178, 1], [2.8284271247461903, 1], [2.8284271247461903, 1]]\n",
      "[[1.7320508075688772, 1], [2.23606797749979, 1], [2.449489742783178, 1], [2.8284271247461903, 1], [2.8284271247461903, 1]]\n",
      "[[1.7320508075688772, 1], [2.23606797749979, 1], [2.449489742783178, 1], [2.8284271247461903, 1], [2.8284271247461903, 1]]\n",
      "[[1.7320508075688772, 1], [2.23606797749979, 1], [2.449489742783178, 1], [2.8284271247461903, 1], [2.8284271247461903, 1]]\n",
      "[[1.7320508075688772, 1], [2.23606797749979, 1], [2.449489742783178, 1], [2.8284271247461903, 1], [2.8284271247461903, 1]]\n",
      "[[1.7320508075688772, 1], [2.23606797749979, 1], [2.449489742783178, 1], [2.8284271247461903, 1], [2.8284271247461903, 1]]\n",
      "[[1.7320508075688772, 1], [2.23606797749979, 1], [2.449489742783178, 1], [2.8284271247461903, 1], [2.8284271247461903, 1]]\n",
      "[[1.7320508075688772, 1], [2.23606797749979, 1], [2.449489742783178, 1], [2.8284271247461903, 1], [2.8284271247461903, 1]]\n",
      "[[1.7320508075688772, 1], [2.23606797749979, 1], [2.449489742783178, 1], [2.8284271247461903, 1], [2.8284271247461903, 1]]\n",
      "[[1.7320508075688772, 1], [2.23606797749979, 1], [2.449489742783178, 1], [2.8284271247461903, 1], [2.8284271247461903, 1]]\n",
      "[[1.7320508075688772, 1], [2.23606797749979, 1], [2.449489742783178, 1], [2.8284271247461903, 1], [2.8284271247461903, 1]]\n",
      "[[1.7320508075688772, 1], [2.23606797749979, 1], [2.449489742783178, 1], [2.8284271247461903, 1], [2.8284271247461903, 1]]\n",
      "[[1.7320508075688772, 1], [2.23606797749979, 1], [2.449489742783178, 1], [2.8284271247461903, 1], [2.8284271247461903, 1]]\n",
      "[[1.7320508075688772, 1], [2.23606797749979, 1], [2.449489742783178, 1], [2.8284271247461903, 1], [2.8284271247461903, 1]]\n",
      "[[1.7320508075688772, 1], [2.23606797749979, 1], [2.449489742783178, 1], [2.8284271247461903, 1], [2.8284271247461903, 1]]\n",
      "[[1.7320508075688772, 1], [2.23606797749979, 1], [2.449489742783178, 1], [2.8284271247461903, 1], [2.8284271247461903, 1]]\n",
      "[[1.7320508075688772, 1], [2.23606797749979, 1], [2.449489742783178, 1], [2.8284271247461903, 1], [2.8284271247461903, 1]]\n",
      "[[1.7320508075688772, 1], [2.23606797749979, 1], [2.449489742783178, 1], [2.8284271247461903, 1], [2.8284271247461903, 1]]\n",
      "[[1.7320508075688772, 1], [2.23606797749979, 1], [2.449489742783178, 1], [2.8284271247461903, 1], [2.8284271247461903, 1]]\n",
      "[[1.7320508075688772, 1], [2.23606797749979, 1], [2.449489742783178, 1], [2.8284271247461903, 1], [2.8284271247461903, 1]]\n",
      "[[1.7320508075688772, 1], [2.23606797749979, 1], [2.449489742783178, 1], [2.8284271247461903, 1], [2.8284271247461903, 1]]\n",
      "[[1.7320508075688772, 1], [2.23606797749979, 1], [2.449489742783178, 1], [2.8284271247461903, 1], [2.8284271247461903, 1]]\n",
      "[[1.7320508075688772, 1], [2.23606797749979, 1], [2.449489742783178, 1], [2.8284271247461903, 1], [2.8284271247461903, 1]]\n",
      "[[1.7320508075688772, 1], [2.23606797749979, 1], [2.449489742783178, 1], [2.8284271247461903, 1], [2.8284271247461903, 1]]\n",
      "[[1.7320508075688772, 1], [2.23606797749979, 1], [2.449489742783178, 1], [2.8284271247461903, 1], [2.8284271247461903, 1]]\n",
      "[[1.7320508075688772, 1], [2.23606797749979, 1], [2.449489742783178, 1], [2.8284271247461903, 1], [2.8284271247461903, 1]]\n",
      "[[1.7320508075688772, 1], [2.23606797749979, 1], [2.449489742783178, 1], [2.8284271247461903, 1], [2.8284271247461903, 1]]\n",
      "[[1.7320508075688772, 1], [2.23606797749979, 1], [2.449489742783178, 1], [2.8284271247461903, 1], [2.8284271247461903, 1]]\n",
      "[[1.7320508075688772, 1], [2.23606797749979, 1], [2.449489742783178, 1], [2.8284271247461903, 1], [2.8284271247461903, 1]]\n",
      "[[1.7320508075688772, 1], [2.23606797749979, 1], [2.449489742783178, 1], [2.8284271247461903, 1], [2.8284271247461903, 1]]\n",
      "[[1.7320508075688772, 1], [2.23606797749979, 1], [2.449489742783178, 1], [2.8284271247461903, 1], [2.8284271247461903, 1]]\n",
      "[[1.7320508075688772, 1], [2.23606797749979, 1], [2.449489742783178, 1], [2.8284271247461903, 1], [2.8284271247461903, 1]]\n",
      "[[1.7320508075688772, 1], [2.23606797749979, 1], [2.449489742783178, 1], [2.8284271247461903, 1], [2.8284271247461903, 1]]\n",
      "[[1.7320508075688772, 1], [2.23606797749979, 1], [2.449489742783178, 1], [2.8284271247461903, 1], [2.8284271247461903, 1]]\n",
      "[[1.7320508075688772, 1], [2.23606797749979, 1], [2.449489742783178, 1], [2.8284271247461903, 1], [2.8284271247461903, 1]]\n",
      "[[1.7320508075688772, 1], [2.23606797749979, 1], [2.449489742783178, 1], [2.8284271247461903, 1], [2.8284271247461903, 1]]\n",
      "[[1.7320508075688772, 1], [2.23606797749979, 1], [2.449489742783178, 1], [2.8284271247461903, 1], [2.8284271247461903, 1]]\n",
      "[[1.7320508075688772, 1], [2.23606797749979, 1], [2.449489742783178, 1], [2.8284271247461903, 1], [2.8284271247461903, 1]]\n",
      "[[1.7320508075688772, 1], [2.23606797749979, 1], [2.449489742783178, 1], [2.8284271247461903, 1], [2.8284271247461903, 1]]\n",
      "[[1.7320508075688772, 1], [2.23606797749979, 1], [2.449489742783178, 1], [2.8284271247461903, 1], [2.8284271247461903, 1]]\n",
      "[[1.7320508075688772, 1], [2.23606797749979, 1], [2.449489742783178, 1], [2.8284271247461903, 1], [2.8284271247461903, 1]]\n",
      "[[1.7320508075688772, 1], [2.23606797749979, 1], [2.449489742783178, 1], [2.8284271247461903, 1], [2.8284271247461903, 1]]\n",
      "[[1.7320508075688772, 1], [2.23606797749979, 1], [2.449489742783178, 1], [2.8284271247461903, 1], [2.8284271247461903, 1]]\n",
      "[[1.7320508075688772, 1], [2.23606797749979, 1], [2.449489742783178, 1], [2.8284271247461903, 1], [2.8284271247461903, 1]]\n",
      "[[1.7320508075688772, 1], [2.23606797749979, 1], [2.449489742783178, 1], [2.8284271247461903, 1], [2.8284271247461903, 1]]\n",
      "[[1.7320508075688772, 1], [2.23606797749979, 1], [2.449489742783178, 1], [2.8284271247461903, 1], [2.8284271247461903, 1]]\n",
      "[[1.7320508075688772, 1], [2.23606797749979, 1], [2.449489742783178, 1], [2.8284271247461903, 1], [2.8284271247461903, 1]]\n",
      "[[1.7320508075688772, 1], [2.23606797749979, 1], [2.449489742783178, 1], [2.8284271247461903, 1], [2.8284271247461903, 1]]\n",
      "[[1.7320508075688772, 1], [2.23606797749979, 1], [2.449489742783178, 1], [2.8284271247461903, 1], [2.8284271247461903, 1]]\n",
      "[[1.7320508075688772, 1], [2.23606797749979, 1], [2.449489742783178, 1], [2.8284271247461903, 1], [2.8284271247461903, 1]]\n",
      "[[1.7320508075688772, 1], [2.23606797749979, 1], [2.449489742783178, 1], [2.8284271247461903, 1], [2.8284271247461903, 1]]\n",
      "[[1.7320508075688772, 1], [2.23606797749979, 1], [2.449489742783178, 1], [2.8284271247461903, 1], [2.8284271247461903, 1]]\n",
      "[[1.7320508075688772, 1], [2.23606797749979, 1], [2.449489742783178, 1], [2.8284271247461903, 1], [2.8284271247461903, 1]]\n",
      "[[1.7320508075688772, 1], [2.23606797749979, 1], [2.449489742783178, 1], [2.8284271247461903, 1], [2.8284271247461903, 1]]\n",
      "[[1.7320508075688772, 1], [2.23606797749979, 1], [2.449489742783178, 1], [2.8284271247461903, 1], [2.8284271247461903, 1]]\n",
      "[[1.7320508075688772, 1], [2.23606797749979, 1], [2.449489742783178, 1], [2.8284271247461903, 1], [2.8284271247461903, 1]]\n",
      "[[1.7320508075688772, 1], [2.23606797749979, 1], [2.449489742783178, 1], [2.8284271247461903, 1], [2.8284271247461903, 1]]\n",
      "[[1.7320508075688772, 1], [2.23606797749979, 1], [2.449489742783178, 1], [2.8284271247461903, 1], [2.8284271247461903, 1]]\n",
      "[[1.7320508075688772, 1], [2.23606797749979, 1], [2.449489742783178, 1], [2.8284271247461903, 1], [2.8284271247461903, 1]]\n",
      "[[1.7320508075688772, 1], [2.23606797749979, 1], [2.449489742783178, 1], [2.8284271247461903, 1], [2.8284271247461903, 1]]\n",
      "[[1.7320508075688772, 1], [2.23606797749979, 1], [2.449489742783178, 1], [2.8284271247461903, 1], [2.8284271247461903, 1]]\n",
      "[[1.7320508075688772, 1], [2.23606797749979, 1], [2.449489742783178, 1], [2.8284271247461903, 1], [2.8284271247461903, 1]]\n",
      "[[1.7320508075688772, 1], [2.23606797749979, 1], [2.449489742783178, 1], [2.8284271247461903, 1], [2.8284271247461903, 1]]\n",
      "[[1.7320508075688772, 1], [2.23606797749979, 1], [2.449489742783178, 1], [2.8284271247461903, 1], [2.8284271247461903, 1]]\n",
      "[[1.7320508075688772, 1], [2.23606797749979, 1], [2.449489742783178, 1], [2.8284271247461903, 1], [2.8284271247461903, 1]]\n",
      "[[1.7320508075688772, 1], [2.23606797749979, 1], [2.449489742783178, 1], [2.8284271247461903, 1], [2.8284271247461903, 1]]\n",
      "[[1.7320508075688772, 1], [2.23606797749979, 1], [2.449489742783178, 1], [2.8284271247461903, 1], [2.8284271247461903, 1]]\n",
      "[[1.7320508075688772, 1], [2.23606797749979, 1], [2.449489742783178, 1], [2.8284271247461903, 1], [2.8284271247461903, 1]]\n",
      "[[1.7320508075688772, 1], [2.23606797749979, 1], [2.449489742783178, 1], [2.8284271247461903, 1], [2.8284271247461903, 1]]\n",
      "[[1.7320508075688772, 1], [2.23606797749979, 1], [2.449489742783178, 1], [2.8284271247461903, 1], [2.8284271247461903, 1]]\n",
      "[[1.7320508075688772, 1], [2.23606797749979, 1], [2.449489742783178, 1], [2.8284271247461903, 1], [2.8284271247461903, 1]]\n",
      "[[1.7320508075688772, 1], [2.23606797749979, 1], [2.449489742783178, 1], [2.8284271247461903, 1], [2.8284271247461903, 1]]\n",
      "[[1.7320508075688772, 1], [2.23606797749979, 1], [2.449489742783178, 1], [2.8284271247461903, 1], [2.8284271247461903, 1]]\n",
      "[[1.7320508075688772, 1], [2.23606797749979, 1], [2.449489742783178, 1], [2.8284271247461903, 1], [2.8284271247461903, 1]]\n",
      "[[1.7320508075688772, 1], [2.23606797749979, 1], [2.449489742783178, 1], [2.8284271247461903, 1], [2.8284271247461903, 1]]\n",
      "[[1.7320508075688772, 1], [2.23606797749979, 1], [2.449489742783178, 1], [2.8284271247461903, 1], [2.8284271247461903, 1]]\n",
      "[[1.7320508075688772, 1], [2.23606797749979, 1], [2.449489742783178, 1], [2.8284271247461903, 1], [2.8284271247461903, 1]]\n",
      "[[1.7320508075688772, 1], [2.23606797749979, 1], [2.449489742783178, 1], [2.8284271247461903, 1], [2.8284271247461903, 1]]\n",
      "[[1.7320508075688772, 1], [2.23606797749979, 1], [2.449489742783178, 1], [2.8284271247461903, 1], [2.8284271247461903, 1]]\n"
     ]
    }
   ],
   "source": [
    "k = 5\n",
    "neighbours = [[1000000.0, 0]]\n",
    "neighbours = neighbours * k\n",
    "neighbours[0] = [100000.0, 0]\n",
    "#print(len(neighbours))\n",
    "dist = 0.0\n",
    "for i in range(len(land_sample)):\n",
    "    #print(i)\n",
    "    dist = distance(data[0][0], land_sample[i])\n",
    "    d = [dist, 1]\n",
    "    l = 0\n",
    "    #print(neighbours[l][0], dist)\n",
    "    while dist > neighbours[l][0] and l<k-1:\n",
    "        l = l+1\n",
    "        \n",
    "    while (l < k-1):\n",
    "        x = neighbours[l]\n",
    "        neighbours[l] = d\n",
    "        d = x\n",
    "        l = l+1\n",
    "        #neighbours[l] = x\n",
    "        #print(l)\n",
    "    if(l < k and neighbours[l][0] > d[0] ):\n",
    "        neighbours[l] = d\n",
    "    \n",
    "    print(neighbours)\n",
    "\n",
    "for i in range(len(river_sample)):\n",
    "    dist = distance(data[0][0], river_sample[i])\n",
    "    d = [dist, 1]\n",
    "    l = 0\n",
    "    while dist > neighbours[l][0] and l<k-1:\n",
    "        l = l+1\n",
    "        \n",
    "    while (l < k-1):\n",
    "        x = neighbours[l]\n",
    "        neighbours[l] = d\n",
    "        d = x\n",
    "        l = l+1\n",
    "    if(l < k and neighbours[l][0] > d[0] ):\n",
    "        neighbours[l] = d"
   ]
  },
  {
   "cell_type": "code",
   "execution_count": 85,
   "metadata": {
    "collapsed": false
   },
   "outputs": [],
   "source": [
    "img = np.zeros((512, 512))\n",
    "k = 5\n",
    "for m in range(len(data)):\n",
    "    for n in range(len(data)):\n",
    "        neighbours = [[1000000.0, 0]]\n",
    "        neighbours = neighbours * k\n",
    "        neighbours[0] = [100000.0, 0]\n",
    "        dist = 0.0\n",
    "        for i in range(len(land_sample)):\n",
    "            dist = distance(data[m][n], land_sample[i])\n",
    "            d = [dist, 1]\n",
    "            l = 0\n",
    "            while dist > neighbours[l][0] and l<k-1:\n",
    "                l = l+1\n",
    "            while (l < k-1):\n",
    "                x = neighbours[l]\n",
    "                neighbours[l] = d\n",
    "                d = x\n",
    "                l = l+1\n",
    "            if(l < k and neighbours[l][0] > d[0] ):\n",
    "                neighbours[l] = d\n",
    "        for i in range(len(river_sample)):\n",
    "            dist = distance(data[m][n], river_sample[i])\n",
    "            d = [dist, 1]\n",
    "            l = 0\n",
    "            while dist > neighbours[l][0] and l<k-1:\n",
    "                l = l+1\n",
    "            while (l < k-1):\n",
    "                x = neighbours[l]\n",
    "                neighbours[l] = d\n",
    "                d = x\n",
    "                l = l+1\n",
    "            if(l < k and neighbours[l][0] > d[0] ):\n",
    "                neighbours[l] = d\n",
    "        ones = 0\n",
    "        zeroes = 0\n",
    "        for i in range(k):\n",
    "            ones = ones + neighbours[i][0] \n",
    "            zeroes = k - ones\n",
    "        if(ones > zeroes):\n",
    "            img[m][n] = 1"
   ]
  },
  {
   "cell_type": "code",
   "execution_count": 79,
   "metadata": {
    "collapsed": false
   },
   "outputs": [],
   "source": [
    "import matplotlib\n",
    "%matplotlib inline"
   ]
  },
  {
   "cell_type": "code",
   "execution_count": 81,
   "metadata": {
    "collapsed": true
   },
   "outputs": [],
   "source": [
    "import matplotlib.pyplot as plt"
   ]
  },
  {
   "cell_type": "code",
   "execution_count": 86,
   "metadata": {
    "collapsed": false
   },
   "outputs": [
    {
     "data": {
      "image/png": "[encoded data removed]",
      "text/plain": [
       "<matplotlib.figure.Figure at 0x7fef41901908>"
      ]
     },
     "metadata": {},
     "output_type": "display_data"
    }
   ],
   "source": [
    "class Formatter(object):\n",
    "    def __init__(self, im):\n",
    "        self.im = im\n",
    "    def __call__(self, x, y):\n",
    "        z = self.im.get_array()[int(y), int(x)]\n",
    "        return 'x={:.01f}, y={:.01f}, z={:.01f}'.format(x, y, z)\n",
    "\n",
    "#data = np.random.random((10,10))\n",
    "\n",
    "fig, ax = plt.subplots()\n",
    "im = ax.imshow(img, interpolation='none', cmap='gray')\n",
    "ax.format_coord = Formatter(im)\n",
    "plt.show()"
   ]
  },
  {
   "cell_type": "code",
   "execution_count": 87,
   "metadata": {
    "collapsed": false
   },
   "outputs": [
    {
     "data": {
      "text/plain": [
       "array([[ 1.,  1.,  1., ...,  1.,  1.,  1.],\n",
       "       [ 1.,  1.,  1., ...,  1.,  1.,  1.],\n",
       "       [ 1.,  1.,  1., ...,  1.,  1.,  1.],\n",
       "       ..., \n",
       "       [ 1.,  1.,  1., ...,  1.,  1.,  1.],\n",
       "       [ 1.,  1.,  1., ...,  1.,  1.,  1.],\n",
       "       [ 1.,  1.,  1., ...,  1.,  1.,  1.]])"
      ]
     },
     "execution_count": 87,
     "metadata": {},
     "output_type": "execute_result"
    }
   ],
   "source": [
    "img"
   ]
  },
  {
   "cell_type": "code",
   "execution_count": null,
   "metadata": {
    "collapsed": true
   },
   "outputs": [],
   "source": []
  }
 ],
 "metadata": {
  "kernelspec": {
   "display_name": "Python 3",
   "language": "python",
   "name": "python3"
  },
  "language_info": {
   "codemirror_mode": {
    "name": "ipython",
    "version": 3
   },
   "file_extension": ".py",
   "mimetype": "text/x-python",
   "name": "python",
   "nbconvert_exporter": "python",
   "pygments_lexer": "ipython3",
   "version": "3.6.0"
  }
 },
 "nbformat": 4,
 "nbformat_minor": 2
}
